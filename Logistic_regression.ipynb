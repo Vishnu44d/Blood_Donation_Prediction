{
 "cells": [
  {
   "cell_type": "markdown",
   "metadata": {},
   "source": [
    "Importing all the libraries for the prediction"
   ]
  },
  {
   "cell_type": "code",
   "execution_count": 41,
   "metadata": {},
   "outputs": [],
   "source": [
    "import pandas as pd\n",
    "import numpy as np\n",
    "import matplotlib.pyplot as plt\n",
    "from sklearn.linear_model import LogisticRegression\n",
    "from sklearn.neural_network import MLPClassifier\n",
    "from sklearn import preprocessing, cross_validation\n",
    "from random import shuffle\n",
    "from sklearn import preprocessing, cross_validation\n",
    "from sklearn.model_selection import train_test_split"
   ]
  },
  {
   "cell_type": "markdown",
   "metadata": {},
   "source": [
    "Resding train and test csv to DataFrames"
   ]
  },
  {
   "cell_type": "code",
   "execution_count": 42,
   "metadata": {
    "collapsed": true
   },
   "outputs": [
    {
     "data": {
      "text/html": [
       "<div>\n",
       "<style>\n",
       "    .dataframe thead tr:only-child th {\n",
       "        text-align: right;\n",
       "    }\n",
       "\n",
       "    .dataframe thead th {\n",
       "        text-align: left;\n",
       "    }\n",
       "\n",
       "    .dataframe tbody tr th {\n",
       "        vertical-align: top;\n",
       "    }\n",
       "</style>\n",
       "<table border=\"1\" class=\"dataframe\">\n",
       "  <thead>\n",
       "    <tr style=\"text-align: right;\">\n",
       "      <th></th>\n",
       "      <th>ID</th>\n",
       "      <th>Months_since_Last_Donation</th>\n",
       "      <th>Number_of_Donations</th>\n",
       "      <th>Total_Volume_Donated (c.c.)</th>\n",
       "      <th>Months_since_First_Donation</th>\n",
       "      <th>Made_Donation_in_March_2007</th>\n",
       "    </tr>\n",
       "  </thead>\n",
       "  <tbody>\n",
       "    <tr>\n",
       "      <th>0</th>\n",
       "      <td>619</td>\n",
       "      <td>2</td>\n",
       "      <td>50</td>\n",
       "      <td>12500</td>\n",
       "      <td>98</td>\n",
       "      <td>1</td>\n",
       "    </tr>\n",
       "    <tr>\n",
       "      <th>1</th>\n",
       "      <td>664</td>\n",
       "      <td>0</td>\n",
       "      <td>13</td>\n",
       "      <td>3250</td>\n",
       "      <td>28</td>\n",
       "      <td>1</td>\n",
       "    </tr>\n",
       "    <tr>\n",
       "      <th>2</th>\n",
       "      <td>441</td>\n",
       "      <td>1</td>\n",
       "      <td>16</td>\n",
       "      <td>4000</td>\n",
       "      <td>35</td>\n",
       "      <td>1</td>\n",
       "    </tr>\n",
       "    <tr>\n",
       "      <th>3</th>\n",
       "      <td>160</td>\n",
       "      <td>2</td>\n",
       "      <td>20</td>\n",
       "      <td>5000</td>\n",
       "      <td>45</td>\n",
       "      <td>1</td>\n",
       "    </tr>\n",
       "    <tr>\n",
       "      <th>4</th>\n",
       "      <td>358</td>\n",
       "      <td>1</td>\n",
       "      <td>24</td>\n",
       "      <td>6000</td>\n",
       "      <td>77</td>\n",
       "      <td>0</td>\n",
       "    </tr>\n",
       "  </tbody>\n",
       "</table>\n",
       "</div>"
      ],
      "text/plain": [
       "    ID  Months_since_Last_Donation  Number_of_Donations  \\\n",
       "0  619                           2                   50   \n",
       "1  664                           0                   13   \n",
       "2  441                           1                   16   \n",
       "3  160                           2                   20   \n",
       "4  358                           1                   24   \n",
       "\n",
       "   Total_Volume_Donated (c.c.)  Months_since_First_Donation  \\\n",
       "0                        12500                           98   \n",
       "1                         3250                           28   \n",
       "2                         4000                           35   \n",
       "3                         5000                           45   \n",
       "4                         6000                           77   \n",
       "\n",
       "   Made_Donation_in_March_2007  \n",
       "0                            1  \n",
       "1                            1  \n",
       "2                            1  \n",
       "3                            1  \n",
       "4                            0  "
      ]
     },
     "execution_count": 42,
     "metadata": {},
     "output_type": "execute_result"
    }
   ],
   "source": [
    "train_df = pd.read_csv('train.csv')\n",
    "test_df = pd.read_csv('test.csv')\n",
    "train_df.head()"
   ]
  },
  {
   "cell_type": "markdown",
   "metadata": {},
   "source": [
    "Checking the number of samples in class 0 and in class 1"
   ]
  },
  {
   "cell_type": "code",
   "execution_count": 43,
   "metadata": {
    "collapsed": true
   },
   "outputs": [
    {
     "name": "stdout",
     "output_type": "stream",
     "text": [
      "438\n",
      "138\n"
     ]
    }
   ],
   "source": [
    "class_0 = train_df[train_df.Made_Donation_in_March_2007 == 0]\n",
    "class_1 = train_df[train_df.Made_Donation_in_March_2007 == 1]\n",
    "print(len(class_0))\n",
    "print(len(class_1))"
   ]
  },
  {
   "cell_type": "markdown",
   "metadata": {},
   "source": [
    "Oopss, We have more number of Zeros the Ones... The difference is very much... We need to resample the class Zero.\n",
    "We'll have to deal with the data loses."
   ]
  },
  {
   "cell_type": "code",
   "execution_count": 44,
   "metadata": {},
   "outputs": [
    {
     "name": "stdout",
     "output_type": "stream",
     "text": [
      "175\n"
     ]
    }
   ],
   "source": [
    "class_0 = class_0.sample(frac = 0.4)\n",
    "print(len(class_0))"
   ]
  },
  {
   "cell_type": "code",
   "execution_count": 45,
   "metadata": {},
   "outputs": [
    {
     "name": "stdout",
     "output_type": "stream",
     "text": [
      "313\n"
     ]
    }
   ],
   "source": [
    "df = class_0.append(class_1)\n",
    "df = df.sample(frac = 1)\n",
    "#print(df.head(2))\n",
    "#print(df.tail(2))\n",
    "print(len(df))"
   ]
  },
  {
   "cell_type": "code",
   "execution_count": 46,
   "metadata": {
    "collapsed": true
   },
   "outputs": [
    {
     "data": {
      "text/html": [
       "<div>\n",
       "<style>\n",
       "    .dataframe thead tr:only-child th {\n",
       "        text-align: right;\n",
       "    }\n",
       "\n",
       "    .dataframe thead th {\n",
       "        text-align: left;\n",
       "    }\n",
       "\n",
       "    .dataframe tbody tr th {\n",
       "        vertical-align: top;\n",
       "    }\n",
       "</style>\n",
       "<table border=\"1\" class=\"dataframe\">\n",
       "  <thead>\n",
       "    <tr style=\"text-align: right;\">\n",
       "      <th></th>\n",
       "      <th>ID</th>\n",
       "      <th>Months_since_Last_Donation</th>\n",
       "      <th>Number_of_Donations</th>\n",
       "      <th>Total_Volume_Donated (c.c.)</th>\n",
       "      <th>Months_since_First_Donation</th>\n",
       "      <th>Made_Donation_in_March_2007</th>\n",
       "    </tr>\n",
       "  </thead>\n",
       "  <tbody>\n",
       "    <tr>\n",
       "      <th>90</th>\n",
       "      <td>493</td>\n",
       "      <td>4</td>\n",
       "      <td>8</td>\n",
       "      <td>2000</td>\n",
       "      <td>40</td>\n",
       "      <td>1</td>\n",
       "    </tr>\n",
       "    <tr>\n",
       "      <th>11</th>\n",
       "      <td>285</td>\n",
       "      <td>1</td>\n",
       "      <td>13</td>\n",
       "      <td>3250</td>\n",
       "      <td>47</td>\n",
       "      <td>0</td>\n",
       "    </tr>\n",
       "    <tr>\n",
       "      <th>37</th>\n",
       "      <td>665</td>\n",
       "      <td>4</td>\n",
       "      <td>20</td>\n",
       "      <td>5000</td>\n",
       "      <td>69</td>\n",
       "      <td>1</td>\n",
       "    </tr>\n",
       "    <tr>\n",
       "      <th>170</th>\n",
       "      <td>111</td>\n",
       "      <td>4</td>\n",
       "      <td>1</td>\n",
       "      <td>250</td>\n",
       "      <td>4</td>\n",
       "      <td>1</td>\n",
       "    </tr>\n",
       "    <tr>\n",
       "      <th>335</th>\n",
       "      <td>628</td>\n",
       "      <td>16</td>\n",
       "      <td>7</td>\n",
       "      <td>1750</td>\n",
       "      <td>93</td>\n",
       "      <td>0</td>\n",
       "    </tr>\n",
       "  </tbody>\n",
       "</table>\n",
       "</div>"
      ],
      "text/plain": [
       "      ID  Months_since_Last_Donation  Number_of_Donations  \\\n",
       "90   493                           4                    8   \n",
       "11   285                           1                   13   \n",
       "37   665                           4                   20   \n",
       "170  111                           4                    1   \n",
       "335  628                          16                    7   \n",
       "\n",
       "     Total_Volume_Donated (c.c.)  Months_since_First_Donation  \\\n",
       "90                          2000                           40   \n",
       "11                          3250                           47   \n",
       "37                          5000                           69   \n",
       "170                          250                            4   \n",
       "335                         1750                           93   \n",
       "\n",
       "     Made_Donation_in_March_2007  \n",
       "90                             1  \n",
       "11                             0  \n",
       "37                             1  \n",
       "170                            1  \n",
       "335                            0  "
      ]
     },
     "execution_count": 46,
     "metadata": {},
     "output_type": "execute_result"
    }
   ],
   "source": [
    "for i in range(700):\n",
    "    df = df.sample(frac = 1)\n",
    "df.head()"
   ]
  },
  {
   "cell_type": "code",
   "execution_count": 47,
   "metadata": {},
   "outputs": [],
   "source": [
    "drop_attributes = ['Total_Volume_Donated (c.c.)', 'Made_Donation_in_March_2007', 'ID']\n",
    "X = np.array(df.drop(drop_attributes, 1).astype(float))\n",
    "y = np.array(df['Made_Donation_in_March_2007'])"
   ]
  },
  {
   "cell_type": "code",
   "execution_count": 48,
   "metadata": {
    "collapsed": true
   },
   "outputs": [
    {
     "data": {
      "text/plain": [
       "array([0, 0, 1, 1, 0, 1, 0, 0, 1, 1, 0, 0, 0, 1, 1, 0, 1, 0, 0, 1, 1, 0, 1,\n",
       "       1, 1, 0, 1, 1, 1, 0, 0, 0, 1, 1, 1, 0, 1, 0, 0, 1, 0, 1, 1, 0, 0, 1,\n",
       "       1, 0, 0, 1, 0, 0, 0, 0, 0, 1, 1, 0, 1, 0, 0, 0, 1, 0, 0, 0, 1, 0, 0,\n",
       "       1, 0, 0, 0, 0, 0, 1, 1, 1, 1, 1, 1, 1, 1, 0, 0, 0, 1, 0, 0, 0, 1, 0,\n",
       "       0, 0, 0, 0, 0, 1, 1, 1, 0, 0, 0, 1, 1, 1, 0, 0, 1, 0, 0, 1, 0, 1, 0,\n",
       "       0, 0, 1, 0, 1, 0, 1, 0, 0, 0, 0, 0, 1, 1, 1, 1, 0, 0, 0, 0, 0, 1, 1,\n",
       "       0, 0, 1, 0, 0, 1, 1, 1, 1, 1, 1, 0, 1, 0, 0, 0, 1, 1, 1, 0, 0, 1, 1,\n",
       "       1, 1, 1, 1, 0, 0, 0, 1, 1, 0, 0, 1, 0, 0, 0, 0, 0, 1, 0, 0, 1, 0, 0,\n",
       "       0, 0, 0, 0, 0, 1, 1, 0, 0, 1, 0, 0, 0, 0, 0, 1, 1, 0, 1, 1, 0, 1, 0,\n",
       "       0, 1, 0, 1, 0, 1, 0, 0, 0, 0, 0, 1, 0, 1, 1, 0, 1, 0, 1, 0, 0, 1, 1,\n",
       "       1, 1, 1, 0, 0, 1, 0, 0, 1, 0, 1, 1, 1, 0, 0, 0, 0, 0, 0, 1], dtype=int64)"
      ]
     },
     "execution_count": 48,
     "metadata": {},
     "output_type": "execute_result"
    }
   ],
   "source": [
    "X_train, X_test, y_train, y_test = cross_validation.train_test_split(X, y, test_size=0.20)\n",
    "y_train"
   ]
  },
  {
   "cell_type": "code",
   "execution_count": 52,
   "metadata": {
    "collapsed": true
   },
   "outputs": [],
   "source": [
    "from sklearn.svm import LinearSVC"
   ]
  },
  {
   "cell_type": "code",
   "execution_count": 37,
   "metadata": {},
   "outputs": [
    {
     "data": {
      "text/plain": [
       "0.69841269841269837"
      ]
     },
     "execution_count": 37,
     "metadata": {},
     "output_type": "execute_result"
    }
   ],
   "source": [
    "model = LogisticRegression()\n",
    "#model = MLPClassifier()\n",
    "model.fit(X_train, y_train)\n",
    "accuracy = model.score(X_test, y_test)\n",
    "accuracy"
   ]
  },
  {
   "cell_type": "code",
   "execution_count": 53,
   "metadata": {},
   "outputs": [
    {
     "data": {
      "text/plain": [
       "0.61904761904761907"
      ]
     },
     "execution_count": 53,
     "metadata": {},
     "output_type": "execute_result"
    }
   ],
   "source": [
    "model_2 = LinearSVC()\n",
    "model_2.fit(X_train, y_train)\n",
    "accuracy_2 = model_2.score(X_test, y_test)\n",
    "accuracy_2"
   ]
  },
  {
   "cell_type": "code",
   "execution_count": 38,
   "metadata": {},
   "outputs": [
    {
     "name": "stdout",
     "output_type": "stream",
     "text": [
      "(200, 3)\n",
      "(250, 3)\n"
     ]
    }
   ],
   "source": [
    "drop_attributes = ['Total_Volume_Donated_(c.c.)', 'ID']\n",
    "test_x = np.array(test_df.drop(drop_attributes, 1).astype(float))\n",
    "test_x.reshape(-1,1)\n",
    "print(test_x.shape)\n",
    "print(X_train.shape)"
   ]
  },
  {
   "cell_type": "code",
   "execution_count": 75,
   "metadata": {
    "collapsed": true
   },
   "outputs": [
    {
     "data": {
      "text/plain": [
       "array([[ 0.36414033,  0.63585967],\n",
       "       [ 0.7885012 ,  0.2114988 ],\n",
       "       [ 0.49612941,  0.50387059],\n",
       "       [ 0.52075632,  0.47924368],\n",
       "       [ 0.34058411,  0.65941589],\n",
       "       [ 0.17940825,  0.82059175],\n",
       "       [ 0.47126414,  0.52873586],\n",
       "       [ 0.72493872,  0.27506128],\n",
       "       [ 0.93797376,  0.06202624],\n",
       "       [ 0.80545641,  0.19454359],\n",
       "       [ 0.67183271,  0.32816729],\n",
       "       [ 0.69880754,  0.30119246],\n",
       "       [ 0.53436838,  0.46563162],\n",
       "       [ 0.49612941,  0.50387059],\n",
       "       [ 0.50398504,  0.49601496],\n",
       "       [ 0.66233573,  0.33766427],\n",
       "       [ 0.59890613,  0.40109387],\n",
       "       [ 0.40145609,  0.59854391],\n",
       "       [ 0.83357301,  0.16642699],\n",
       "       [ 0.49437941,  0.50562059],\n",
       "       [ 0.40018482,  0.59981518],\n",
       "       [ 0.48796268,  0.51203732],\n",
       "       [ 0.4503212 ,  0.5496788 ],\n",
       "       [ 0.49612941,  0.50387059],\n",
       "       [ 0.5321384 ,  0.4678616 ],\n",
       "       [ 0.50100523,  0.49899477],\n",
       "       [ 0.45588764,  0.54411236],\n",
       "       [ 0.72493872,  0.27506128],\n",
       "       [ 0.49136175,  0.50863825],\n",
       "       [ 0.36414033,  0.63585967],\n",
       "       [ 0.48015338,  0.51984662],\n",
       "       [ 0.90319459,  0.09680541],\n",
       "       [ 0.44709926,  0.55290074],\n",
       "       [ 0.54920228,  0.45079772],\n",
       "       [ 0.60831675,  0.39168325],\n",
       "       [ 0.5857315 ,  0.4142685 ],\n",
       "       [ 0.56791366,  0.43208634],\n",
       "       [ 0.72493872,  0.27506128],\n",
       "       [ 0.46177033,  0.53822967],\n",
       "       [ 0.49612941,  0.50387059],\n",
       "       [ 0.42997124,  0.57002876],\n",
       "       [ 0.72176452,  0.27823548],\n",
       "       [ 0.83802686,  0.16197314],\n",
       "       [ 0.43768928,  0.56231072],\n",
       "       [ 0.73595738,  0.26404262],\n",
       "       [ 0.44709926,  0.55290074],\n",
       "       [ 0.4590517 ,  0.5409483 ],\n",
       "       [ 0.74745704,  0.25254296],\n",
       "       [ 0.72493872,  0.27506128],\n",
       "       [ 0.68586571,  0.31413429],\n",
       "       [ 0.33591067,  0.66408933],\n",
       "       [ 0.25031863,  0.74968137],\n",
       "       [ 0.69112981,  0.30887019],\n",
       "       [ 0.50296876,  0.49703124],\n",
       "       [ 0.87876116,  0.12123884],\n",
       "       [ 0.64381333,  0.35618667],\n",
       "       [ 0.57827846,  0.42172154],\n",
       "       [ 0.42341408,  0.57658592],\n",
       "       [ 0.49602964,  0.50397036],\n",
       "       [ 0.33713233,  0.66286767],\n",
       "       [ 0.49612941,  0.50387059],\n",
       "       [ 0.72698139,  0.27301861],\n",
       "       [ 0.56548436,  0.43451564],\n",
       "       [ 0.42633421,  0.57366579],\n",
       "       [ 0.72698139,  0.27301861],\n",
       "       [ 0.7740834 ,  0.2259166 ],\n",
       "       [ 0.73468335,  0.26531665],\n",
       "       [ 0.69207675,  0.30792325],\n",
       "       [ 0.49598509,  0.50401491],\n",
       "       [ 0.49612941,  0.50387059],\n",
       "       [ 0.65375204,  0.34624796],\n",
       "       [ 0.72557867,  0.27442133],\n",
       "       [ 0.96551294,  0.03448706],\n",
       "       [ 0.49612941,  0.50387059],\n",
       "       [ 0.87992222,  0.12007778],\n",
       "       [ 0.70508741,  0.29491259],\n",
       "       [ 0.72711543,  0.27288457],\n",
       "       [ 0.52479635,  0.47520365],\n",
       "       [ 0.75443164,  0.24556836],\n",
       "       [ 0.42341408,  0.57658592],\n",
       "       [ 0.96551294,  0.03448706],\n",
       "       [ 0.52075632,  0.47924368],\n",
       "       [ 0.45588764,  0.54411236],\n",
       "       [ 0.42997124,  0.57002876],\n",
       "       [ 0.33591067,  0.66408933],\n",
       "       [ 0.84000917,  0.15999083],\n",
       "       [ 0.66233573,  0.33766427],\n",
       "       [ 0.77144796,  0.22855204],\n",
       "       [ 0.69207675,  0.30792325],\n",
       "       [ 0.46233206,  0.53766794],\n",
       "       [ 0.49612941,  0.50387059],\n",
       "       [ 0.64687596,  0.35312404],\n",
       "       [ 0.73595738,  0.26404262],\n",
       "       [ 0.74391566,  0.25608434],\n",
       "       [ 0.62956139,  0.37043861],\n",
       "       [ 0.53571577,  0.46428423],\n",
       "       [ 0.46787621,  0.53212379],\n",
       "       [ 0.57044192,  0.42955808],\n",
       "       [ 0.85488556,  0.14511444],\n",
       "       [ 0.47126414,  0.52873586],\n",
       "       [ 0.44709926,  0.55290074],\n",
       "       [ 0.70706662,  0.29293338],\n",
       "       [ 0.8414744 ,  0.1585256 ],\n",
       "       [ 0.57487671,  0.42512329],\n",
       "       [ 0.65682455,  0.34317545],\n",
       "       [ 0.40707162,  0.59292838],\n",
       "       [ 0.64090712,  0.35909288],\n",
       "       [ 0.40052242,  0.59947758],\n",
       "       [ 0.49612941,  0.50387059],\n",
       "       [ 0.73921173,  0.26078827],\n",
       "       [ 0.61828537,  0.38171463],\n",
       "       [ 0.49612941,  0.50387059],\n",
       "       [ 0.90319459,  0.09680541],\n",
       "       [ 0.41280229,  0.58719771],\n",
       "       [ 0.52075632,  0.47924368],\n",
       "       [ 0.88403903,  0.11596097],\n",
       "       [ 0.86473783,  0.13526217],\n",
       "       [ 0.43713315,  0.56286685],\n",
       "       [ 0.26913637,  0.73086363],\n",
       "       [ 0.50079799,  0.49920201],\n",
       "       [ 0.70706662,  0.29293338],\n",
       "       [ 0.38178062,  0.61821938],\n",
       "       [ 0.6726405 ,  0.3273595 ],\n",
       "       [ 0.14699588,  0.85300412],\n",
       "       [ 0.41137999,  0.58862001],\n",
       "       [ 0.37272508,  0.62727492],\n",
       "       [ 0.52920031,  0.47079969],\n",
       "       [ 0.63971627,  0.36028373],\n",
       "       [ 0.6726405 ,  0.3273595 ],\n",
       "       [ 0.70464283,  0.29535717],\n",
       "       [ 0.45832288,  0.54167712],\n",
       "       [ 0.66233573,  0.33766427],\n",
       "       [ 0.63055049,  0.36944951],\n",
       "       [ 0.49612941,  0.50387059],\n",
       "       [ 0.54920228,  0.45079772],\n",
       "       [ 0.47126414,  0.52873586],\n",
       "       [ 0.66233573,  0.33766427],\n",
       "       [ 0.81001295,  0.18998705],\n",
       "       [ 0.27744015,  0.72255985],\n",
       "       [ 0.53318861,  0.46681139],\n",
       "       [ 0.08524293,  0.91475707],\n",
       "       [ 0.49612941,  0.50387059],\n",
       "       [ 0.45588764,  0.54411236],\n",
       "       [ 0.57827846,  0.42172154],\n",
       "       [ 0.49612941,  0.50387059],\n",
       "       [ 0.86473783,  0.13526217],\n",
       "       [ 0.86249129,  0.13750871],\n",
       "       [ 0.50535281,  0.49464719],\n",
       "       [ 0.90390316,  0.09609684],\n",
       "       [ 0.44709926,  0.55290074],\n",
       "       [ 0.86516608,  0.13483392],\n",
       "       [ 0.32983547,  0.67016453],\n",
       "       [ 0.55161692,  0.44838308],\n",
       "       [ 0.73658101,  0.26341899],\n",
       "       [ 0.73338373,  0.26661627],\n",
       "       [ 0.50492604,  0.49507396],\n",
       "       [ 0.76242275,  0.23757725],\n",
       "       [ 0.44709926,  0.55290074],\n",
       "       [ 0.25031863,  0.74968137],\n",
       "       [ 0.66233573,  0.33766427],\n",
       "       [ 0.56548436,  0.43451564],\n",
       "       [ 0.72493872,  0.27506128],\n",
       "       [ 0.4431815 ,  0.5568185 ],\n",
       "       [ 0.44649663,  0.55350337],\n",
       "       [ 0.58391098,  0.41608902],\n",
       "       [ 0.81413725,  0.18586275],\n",
       "       [ 0.45588764,  0.54411236],\n",
       "       [ 0.48015338,  0.51984662],\n",
       "       [ 0.49612941,  0.50387059],\n",
       "       [ 0.49437941,  0.50562059],\n",
       "       [ 0.86473783,  0.13526217],\n",
       "       [ 0.97150148,  0.02849852],\n",
       "       [ 0.49612941,  0.50387059],\n",
       "       [ 0.05979989,  0.94020011],\n",
       "       [ 0.64687596,  0.35312404],\n",
       "       [ 0.84738863,  0.15261137],\n",
       "       [ 0.4239659 ,  0.5760341 ],\n",
       "       [ 0.521967  ,  0.478033  ],\n",
       "       [ 0.7666479 ,  0.2333521 ],\n",
       "       [ 0.49612941,  0.50387059],\n",
       "       [ 0.72493872,  0.27506128],\n",
       "       [ 0.64692641,  0.35307359],\n",
       "       [ 0.38178062,  0.61821938],\n",
       "       [ 0.76242275,  0.23757725],\n",
       "       [ 0.37314728,  0.62685272],\n",
       "       [ 0.70464283,  0.29535717],\n",
       "       [ 0.72711543,  0.27288457],\n",
       "       [ 0.66233573,  0.33766427],\n",
       "       [ 0.44709926,  0.55290074],\n",
       "       [ 0.70464283,  0.29535717],\n",
       "       [ 0.19845916,  0.80154084],\n",
       "       [ 0.57014097,  0.42985903],\n",
       "       [ 0.74391566,  0.25608434],\n",
       "       [ 0.74925302,  0.25074698],\n",
       "       [ 0.70508741,  0.29491259],\n",
       "       [ 0.76242275,  0.23757725],\n",
       "       [ 0.83043674,  0.16956326],\n",
       "       [ 0.81806509,  0.18193491],\n",
       "       [ 0.86184107,  0.13815893],\n",
       "       [ 0.4723155 ,  0.5276845 ]])"
      ]
     },
     "execution_count": 75,
     "metadata": {},
     "output_type": "execute_result"
    }
   ],
   "source": [
    "y = model.predict(test_x)\n",
    "#print(y)\n",
    "y_log = model.predict_proba(test_x)\n",
    "y_log"
   ]
  },
  {
   "cell_type": "code",
   "execution_count": 82,
   "metadata": {
    "collapsed": true
   },
   "outputs": [
    {
     "data": {
      "text/plain": [
       "[659,\n",
       " 276,\n",
       " 263,\n",
       " 303,\n",
       " 83,\n",
       " 500,\n",
       " 530,\n",
       " 244,\n",
       " 249,\n",
       " 728,\n",
       " 129,\n",
       " 534,\n",
       " 317,\n",
       " 401,\n",
       " 696,\n",
       " 192,\n",
       " 176,\n",
       " 571,\n",
       " 139,\n",
       " 423,\n",
       " 563,\n",
       " 56,\n",
       " 528,\n",
       " 101,\n",
       " 467,\n",
       " 382,\n",
       " 466,\n",
       " 294,\n",
       " 512,\n",
       " 659,\n",
       " 389,\n",
       " 487,\n",
       " 701,\n",
       " 419,\n",
       " 536,\n",
       " 240,\n",
       " 508,\n",
       " 515,\n",
       " 283,\n",
       " 650,\n",
       " 65,\n",
       " 228,\n",
       " 741,\n",
       " 297,\n",
       " 464,\n",
       " 63,\n",
       " 231,\n",
       " 28,\n",
       " 248,\n",
       " 357,\n",
       " 300,\n",
       " 726,\n",
       " 680,\n",
       " 520,\n",
       " 254,\n",
       " 582,\n",
       " 143,\n",
       " 98,\n",
       " 1,\n",
       " 221,\n",
       " 352,\n",
       " 64,\n",
       " 138,\n",
       " 745,\n",
       " 64,\n",
       " 688,\n",
       " 623,\n",
       " 289,\n",
       " 174,\n",
       " 690,\n",
       " 105,\n",
       " 427,\n",
       " 48,\n",
       " 14,\n",
       " 657,\n",
       " 301,\n",
       " 455,\n",
       " 579,\n",
       " 722,\n",
       " 98,\n",
       " 491,\n",
       " 303,\n",
       " 466,\n",
       " 65,\n",
       " 300,\n",
       " 9,\n",
       " 622,\n",
       " 323,\n",
       " 289,\n",
       " 568,\n",
       " 290,\n",
       " 156,\n",
       " 464,\n",
       " 426,\n",
       " 306,\n",
       " 4,\n",
       " 12,\n",
       " 187,\n",
       " 406,\n",
       " 96,\n",
       " 509,\n",
       " 733,\n",
       " 548,\n",
       " 478,\n",
       " 501,\n",
       " 127,\n",
       " 199,\n",
       " 299,\n",
       " 162,\n",
       " 235,\n",
       " 23,\n",
       " 473,\n",
       " 487,\n",
       " 683,\n",
       " 303,\n",
       " 309,\n",
       " 569,\n",
       " 34,\n",
       " 686,\n",
       " 84,\n",
       " 733,\n",
       " 537,\n",
       " 181,\n",
       " 453,\n",
       " 67,\n",
       " 161,\n",
       " 307,\n",
       " 703,\n",
       " 181,\n",
       " 246,\n",
       " 316,\n",
       " 278,\n",
       " 346,\n",
       " 545,\n",
       " 419,\n",
       " 694,\n",
       " 622,\n",
       " 663,\n",
       " 262,\n",
       " 461,\n",
       " 373,\n",
       " 233,\n",
       " 466,\n",
       " 207,\n",
       " 263,\n",
       " 16,\n",
       " 513,\n",
       " 449,\n",
       " 429,\n",
       " 701,\n",
       " 632,\n",
       " 529,\n",
       " 245,\n",
       " 344,\n",
       " 353,\n",
       " 241,\n",
       " 633,\n",
       " 624,\n",
       " 726,\n",
       " 189,\n",
       " 138,\n",
       " 402,\n",
       " 511,\n",
       " 590,\n",
       " 334,\n",
       " 447,\n",
       " 119,\n",
       " 389,\n",
       " 644,\n",
       " 423,\n",
       " 131,\n",
       " 405,\n",
       " 82,\n",
       " 643,\n",
       " 156,\n",
       " 617,\n",
       " 574,\n",
       " 272,\n",
       " 613,\n",
       " 545,\n",
       " 685,\n",
       " 570,\n",
       " 537,\n",
       " 691,\n",
       " 85,\n",
       " 483,\n",
       " 455,\n",
       " 93,\n",
       " 744,\n",
       " 33,\n",
       " 321,\n",
       " 523,\n",
       " 426,\n",
       " 196,\n",
       " 301,\n",
       " 103,\n",
       " 224,\n",
       " 454,\n",
       " 585,\n",
       " 154]"
      ]
     },
     "execution_count": 82,
     "metadata": {},
     "output_type": "execute_result"
    }
   ],
   "source": [
    "wr = [y_log[i][1] for i in range(len(y_log))]\n",
    "wr\n",
    "list(test_df['ID'])"
   ]
  },
  {
   "cell_type": "code",
   "execution_count": 83,
   "metadata": {
    "collapsed": true
   },
   "outputs": [],
   "source": [
    "dicto = {'':list(test_df['ID']), 'Made Donation in March 2007':wr}"
   ]
  },
  {
   "cell_type": "code",
   "execution_count": 85,
   "metadata": {},
   "outputs": [],
   "source": [
    "sub_df = pd.DataFrame(dicto)"
   ]
  },
  {
   "cell_type": "code",
   "execution_count": 88,
   "metadata": {},
   "outputs": [],
   "source": [
    "sub_df.head()\n",
    "sub_df.to_csv('sub.csv')"
   ]
  },
  {
   "cell_type": "markdown",
   "metadata": {},
   "source": [
    "----------------- The End ------------------------"
   ]
  }
 ],
 "metadata": {
  "kernelspec": {
   "display_name": "Python 3",
   "language": "python",
   "name": "python3"
  },
  "language_info": {
   "codemirror_mode": {
    "name": "ipython",
    "version": 3
   },
   "file_extension": ".py",
   "mimetype": "text/x-python",
   "name": "python",
   "nbconvert_exporter": "python",
   "pygments_lexer": "ipython3",
   "version": "3.5.3"
  }
 },
 "nbformat": 4,
 "nbformat_minor": 2
}
